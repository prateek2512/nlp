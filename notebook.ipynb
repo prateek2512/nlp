{
  "nbformat": 4,
  "nbformat_minor": 0,
  "metadata": {
    "colab": {
      "provenance": [],
      "collapsed_sections": []
    },
    "kernelspec": {
      "name": "python3",
      "display_name": "Python 3"
    },
    "language_info": {
      "name": "python"
    }
  },
  "cells": [
    {
      "cell_type": "markdown",
      "source": [
        "## Setup the libraries"
      ],
      "metadata": {
        "id": "NbNYp-nbtiSu"
      }
    },
    {
      "cell_type": "code",
      "execution_count": null,
      "metadata": {
        "id": "ESacLh4GSFF9"
      },
      "outputs": [],
      "source": [
        "!pip install spacy --upgrade -q"
      ]
    },
    {
      "cell_type": "code",
      "source": [
        "import spacy\n",
        "import pandas as pd\n",
        "\n",
        "from spacy.lang.pt.stop_words import STOP_WORDS\n",
        "\n",
        "import seaborn as sns\n",
        "\n",
        "import string\n",
        "\n",
        "import re\n",
        "\n",
        "import numpy as np"
      ],
      "metadata": {
        "id": "miN59Jh_S-vp"
      },
      "execution_count": null,
      "outputs": []
    },
    {
      "cell_type": "code",
      "source": [
        "spacy.__version__"
      ],
      "metadata": {
        "colab": {
          "base_uri": "https://localhost:8080/",
          "height": 35
        },
        "id": "PM5bB8AdTBoP",
        "outputId": "5361b18b-fd24-4b55-8eb9-c1bcadce10b6"
      },
      "execution_count": null,
      "outputs": [
        {
          "output_type": "execute_result",
          "data": {
            "text/plain": [
              "'3.4.2'"
            ],
            "application/vnd.google.colaboratory.intrinsic+json": {
              "type": "string"
            }
          },
          "metadata": {},
          "execution_count": 3
        }
      ]
    },
    {
      "cell_type": "code",
      "source": [
        "nlp = spacy.blank(\"pt\")"
      ],
      "metadata": {
        "id": "_nmaCy_fdqw0"
      },
      "execution_count": null,
      "outputs": []
    },
    {
      "cell_type": "markdown",
      "source": [
        "## Step 1 - Data Preparation\n",
        "\n",
        "#### Loading the dataset to Pandas"
      ],
      "metadata": {
        "id": "vEfaSukzhyYb"
      }
    },
    {
      "cell_type": "code",
      "source": [
        "df = pd.read_csv(\"https://gist.githubusercontent.com/johnidm/582cfeadd2bf418df4539c9422f824d2/raw/twitter-sentiment-pt-BR-md-2-l.csv\")\n",
        "df.head()"
      ],
      "metadata": {
        "colab": {
          "base_uri": "https://localhost:8080/",
          "height": 206
        },
        "id": "BuMSDC1-TUl8",
        "outputId": "91867123-9c4b-4cb3-de79-615060d3c53c"
      },
      "execution_count": null,
      "outputs": [
        {
          "output_type": "execute_result",
          "data": {
            "text/plain": [
              "                                          tweet_text  sentiment\n",
              "0              Mas tu não és feio :( @SavageFluxXx__          0\n",
              "1                    @SamaraPaivas Você que pensa :)          1\n",
              "2           te amo demais :( https://t.co/leUzS65WrG          0\n",
              "3                             @nicko_donis lindo! :)          1\n",
              "4  @B_kirikihira Oi, tem sim! Visite nossos canai...          1"
            ],
            "text/html": [
              "\n",
              "  <div id=\"df-91a5a7ae-71a9-4529-b0c2-78b2a0cdec0e\">\n",
              "    <div class=\"colab-df-container\">\n",
              "      <div>\n",
              "<style scoped>\n",
              "    .dataframe tbody tr th:only-of-type {\n",
              "        vertical-align: middle;\n",
              "    }\n",
              "\n",
              "    .dataframe tbody tr th {\n",
              "        vertical-align: top;\n",
              "    }\n",
              "\n",
              "    .dataframe thead th {\n",
              "        text-align: right;\n",
              "    }\n",
              "</style>\n",
              "<table border=\"1\" class=\"dataframe\">\n",
              "  <thead>\n",
              "    <tr style=\"text-align: right;\">\n",
              "      <th></th>\n",
              "      <th>tweet_text</th>\n",
              "      <th>sentiment</th>\n",
              "    </tr>\n",
              "  </thead>\n",
              "  <tbody>\n",
              "    <tr>\n",
              "      <th>0</th>\n",
              "      <td>Mas tu não és feio :( @SavageFluxXx__</td>\n",
              "      <td>0</td>\n",
              "    </tr>\n",
              "    <tr>\n",
              "      <th>1</th>\n",
              "      <td>@SamaraPaivas Você que pensa :)</td>\n",
              "      <td>1</td>\n",
              "    </tr>\n",
              "    <tr>\n",
              "      <th>2</th>\n",
              "      <td>te amo demais :( https://t.co/leUzS65WrG</td>\n",
              "      <td>0</td>\n",
              "    </tr>\n",
              "    <tr>\n",
              "      <th>3</th>\n",
              "      <td>@nicko_donis lindo! :)</td>\n",
              "      <td>1</td>\n",
              "    </tr>\n",
              "    <tr>\n",
              "      <th>4</th>\n",
              "      <td>@B_kirikihira Oi, tem sim! Visite nossos canai...</td>\n",
              "      <td>1</td>\n",
              "    </tr>\n",
              "  </tbody>\n",
              "</table>\n",
              "</div>\n",
              "      <button class=\"colab-df-convert\" onclick=\"convertToInteractive('df-91a5a7ae-71a9-4529-b0c2-78b2a0cdec0e')\"\n",
              "              title=\"Convert this dataframe to an interactive table.\"\n",
              "              style=\"display:none;\">\n",
              "        \n",
              "  <svg xmlns=\"http://www.w3.org/2000/svg\" height=\"24px\"viewBox=\"0 0 24 24\"\n",
              "       width=\"24px\">\n",
              "    <path d=\"M0 0h24v24H0V0z\" fill=\"none\"/>\n",
              "    <path d=\"M18.56 5.44l.94 2.06.94-2.06 2.06-.94-2.06-.94-.94-2.06-.94 2.06-2.06.94zm-11 1L8.5 8.5l.94-2.06 2.06-.94-2.06-.94L8.5 2.5l-.94 2.06-2.06.94zm10 10l.94 2.06.94-2.06 2.06-.94-2.06-.94-.94-2.06-.94 2.06-2.06.94z\"/><path d=\"M17.41 7.96l-1.37-1.37c-.4-.4-.92-.59-1.43-.59-.52 0-1.04.2-1.43.59L10.3 9.45l-7.72 7.72c-.78.78-.78 2.05 0 2.83L4 21.41c.39.39.9.59 1.41.59.51 0 1.02-.2 1.41-.59l7.78-7.78 2.81-2.81c.8-.78.8-2.07 0-2.86zM5.41 20L4 18.59l7.72-7.72 1.47 1.35L5.41 20z\"/>\n",
              "  </svg>\n",
              "      </button>\n",
              "      \n",
              "  <style>\n",
              "    .colab-df-container {\n",
              "      display:flex;\n",
              "      flex-wrap:wrap;\n",
              "      gap: 12px;\n",
              "    }\n",
              "\n",
              "    .colab-df-convert {\n",
              "      background-color: #E8F0FE;\n",
              "      border: none;\n",
              "      border-radius: 50%;\n",
              "      cursor: pointer;\n",
              "      display: none;\n",
              "      fill: #1967D2;\n",
              "      height: 32px;\n",
              "      padding: 0 0 0 0;\n",
              "      width: 32px;\n",
              "    }\n",
              "\n",
              "    .colab-df-convert:hover {\n",
              "      background-color: #E2EBFA;\n",
              "      box-shadow: 0px 1px 2px rgba(60, 64, 67, 0.3), 0px 1px 3px 1px rgba(60, 64, 67, 0.15);\n",
              "      fill: #174EA6;\n",
              "    }\n",
              "\n",
              "    [theme=dark] .colab-df-convert {\n",
              "      background-color: #3B4455;\n",
              "      fill: #D2E3FC;\n",
              "    }\n",
              "\n",
              "    [theme=dark] .colab-df-convert:hover {\n",
              "      background-color: #434B5C;\n",
              "      box-shadow: 0px 1px 3px 1px rgba(0, 0, 0, 0.15);\n",
              "      filter: drop-shadow(0px 1px 2px rgba(0, 0, 0, 0.3));\n",
              "      fill: #FFFFFF;\n",
              "    }\n",
              "  </style>\n",
              "\n",
              "      <script>\n",
              "        const buttonEl =\n",
              "          document.querySelector('#df-91a5a7ae-71a9-4529-b0c2-78b2a0cdec0e button.colab-df-convert');\n",
              "        buttonEl.style.display =\n",
              "          google.colab.kernel.accessAllowed ? 'block' : 'none';\n",
              "\n",
              "        async function convertToInteractive(key) {\n",
              "          const element = document.querySelector('#df-91a5a7ae-71a9-4529-b0c2-78b2a0cdec0e');\n",
              "          const dataTable =\n",
              "            await google.colab.kernel.invokeFunction('convertToInteractive',\n",
              "                                                     [key], {});\n",
              "          if (!dataTable) return;\n",
              "\n",
              "          const docLinkHtml = 'Like what you see? Visit the ' +\n",
              "            '<a target=\"_blank\" href=https://colab.research.google.com/notebooks/data_table.ipynb>data table notebook</a>'\n",
              "            + ' to learn more about interactive tables.';\n",
              "          element.innerHTML = '';\n",
              "          dataTable['output_type'] = 'display_data';\n",
              "          await google.colab.output.renderOutput(dataTable, element);\n",
              "          const docLink = document.createElement('div');\n",
              "          docLink.innerHTML = docLinkHtml;\n",
              "          element.appendChild(docLink);\n",
              "        }\n",
              "      </script>\n",
              "    </div>\n",
              "  </div>\n",
              "  "
            ]
          },
          "metadata": {},
          "execution_count": 5
        }
      ]
    },
    {
      "cell_type": "code",
      "source": [
        "df.shape"
      ],
      "metadata": {
        "colab": {
          "base_uri": "https://localhost:8080/"
        },
        "id": "MYEkl1E1zrZR",
        "outputId": "254c9733-dbbd-45c4-a41c-97ca3a6e65c6"
      },
      "execution_count": null,
      "outputs": [
        {
          "output_type": "execute_result",
          "data": {
            "text/plain": [
              "(20000, 2)"
            ]
          },
          "metadata": {},
          "execution_count": 6
        }
      ]
    },
    {
      "cell_type": "markdown",
      "source": [
        "#### Applaying the preprocessing task\n",
        "\n",
        "We are shuffling the dataset with `df.sample`. This is important to split the data into training, development and testing dataset equalized parts."
      ],
      "metadata": {
        "id": "P3Sv_ojY0tt-"
      }
    },
    {
      "cell_type": "code",
      "source": [
        "REGX_USERNAME = r\"@[A-Za-z0-9$-_@.&+]+\"\n",
        "REGX_URL = r\"https?://[A-Za-z0-9./]+\"\n",
        "\n",
        "def preprocessing(text):\n",
        "  text = text.lower()\n",
        "\n",
        "  text = re.sub(REGX_USERNAME, ' ', text)\n",
        "  text = re.sub(REGX_URL, ' ', text)\n",
        "\n",
        "  emojis = {\n",
        "      ':)': 'emocaopositiva',\n",
        "      ':(': 'emocaonegativa'\n",
        "  }\n",
        "\n",
        "  for e in emojis:\n",
        "    text = text.replace(e, emojis[e])\n",
        "\n",
        "  tokens = [token.text for token in nlp(text)]\n",
        "\n",
        "  tokens = [t for t in tokens if \n",
        "              t not in STOP_WORDS and \n",
        "              t not in string.punctuation and \n",
        "              len(t) > 3]\n",
        "\n",
        "  tokens = [t for t in tokens if not t.isdigit()]\n",
        "\n",
        "  return \" \".join(tokens)"
      ],
      "metadata": {
        "id": "8g3au_8-icDV"
      },
      "execution_count": null,
      "outputs": []
    },
    {
      "cell_type": "code",
      "source": [
        "df[\"tweet_text_clean\"] = df[\"tweet_text\"].apply(preprocessing)\n",
        "\n",
        "df.head()"
      ],
      "metadata": {
        "colab": {
          "base_uri": "https://localhost:8080/",
          "height": 206
        },
        "id": "nPJtGrefzPWB",
        "outputId": "0ba51978-68ae-453a-80bd-04c96a62d65e"
      },
      "execution_count": null,
      "outputs": [
        {
          "output_type": "execute_result",
          "data": {
            "text/plain": [
              "                                          tweet_text  sentiment  \\\n",
              "0              Mas tu não és feio :( @SavageFluxXx__          0   \n",
              "1                    @SamaraPaivas Você que pensa :)          1   \n",
              "2           te amo demais :( https://t.co/leUzS65WrG          0   \n",
              "3                             @nicko_donis lindo! :)          1   \n",
              "4  @B_kirikihira Oi, tem sim! Visite nossos canai...          1   \n",
              "\n",
              "                                    tweet_text_clean  \n",
              "0                                feio emocaonegativa  \n",
              "1                               pensa emocaopositiva  \n",
              "2                                     emocaonegativa  \n",
              "3                               lindo emocaopositiva  \n",
              "4  visite canais saiba projeto incrivel emocaopos...  "
            ],
            "text/html": [
              "\n",
              "  <div id=\"df-b8c39183-be0b-4c64-89dc-679456f95e60\">\n",
              "    <div class=\"colab-df-container\">\n",
              "      <div>\n",
              "<style scoped>\n",
              "    .dataframe tbody tr th:only-of-type {\n",
              "        vertical-align: middle;\n",
              "    }\n",
              "\n",
              "    .dataframe tbody tr th {\n",
              "        vertical-align: top;\n",
              "    }\n",
              "\n",
              "    .dataframe thead th {\n",
              "        text-align: right;\n",
              "    }\n",
              "</style>\n",
              "<table border=\"1\" class=\"dataframe\">\n",
              "  <thead>\n",
              "    <tr style=\"text-align: right;\">\n",
              "      <th></th>\n",
              "      <th>tweet_text</th>\n",
              "      <th>sentiment</th>\n",
              "      <th>tweet_text_clean</th>\n",
              "    </tr>\n",
              "  </thead>\n",
              "  <tbody>\n",
              "    <tr>\n",
              "      <th>0</th>\n",
              "      <td>Mas tu não és feio :( @SavageFluxXx__</td>\n",
              "      <td>0</td>\n",
              "      <td>feio emocaonegativa</td>\n",
              "    </tr>\n",
              "    <tr>\n",
              "      <th>1</th>\n",
              "      <td>@SamaraPaivas Você que pensa :)</td>\n",
              "      <td>1</td>\n",
              "      <td>pensa emocaopositiva</td>\n",
              "    </tr>\n",
              "    <tr>\n",
              "      <th>2</th>\n",
              "      <td>te amo demais :( https://t.co/leUzS65WrG</td>\n",
              "      <td>0</td>\n",
              "      <td>emocaonegativa</td>\n",
              "    </tr>\n",
              "    <tr>\n",
              "      <th>3</th>\n",
              "      <td>@nicko_donis lindo! :)</td>\n",
              "      <td>1</td>\n",
              "      <td>lindo emocaopositiva</td>\n",
              "    </tr>\n",
              "    <tr>\n",
              "      <th>4</th>\n",
              "      <td>@B_kirikihira Oi, tem sim! Visite nossos canai...</td>\n",
              "      <td>1</td>\n",
              "      <td>visite canais saiba projeto incrivel emocaopos...</td>\n",
              "    </tr>\n",
              "  </tbody>\n",
              "</table>\n",
              "</div>\n",
              "      <button class=\"colab-df-convert\" onclick=\"convertToInteractive('df-b8c39183-be0b-4c64-89dc-679456f95e60')\"\n",
              "              title=\"Convert this dataframe to an interactive table.\"\n",
              "              style=\"display:none;\">\n",
              "        \n",
              "  <svg xmlns=\"http://www.w3.org/2000/svg\" height=\"24px\"viewBox=\"0 0 24 24\"\n",
              "       width=\"24px\">\n",
              "    <path d=\"M0 0h24v24H0V0z\" fill=\"none\"/>\n",
              "    <path d=\"M18.56 5.44l.94 2.06.94-2.06 2.06-.94-2.06-.94-.94-2.06-.94 2.06-2.06.94zm-11 1L8.5 8.5l.94-2.06 2.06-.94-2.06-.94L8.5 2.5l-.94 2.06-2.06.94zm10 10l.94 2.06.94-2.06 2.06-.94-2.06-.94-.94-2.06-.94 2.06-2.06.94z\"/><path d=\"M17.41 7.96l-1.37-1.37c-.4-.4-.92-.59-1.43-.59-.52 0-1.04.2-1.43.59L10.3 9.45l-7.72 7.72c-.78.78-.78 2.05 0 2.83L4 21.41c.39.39.9.59 1.41.59.51 0 1.02-.2 1.41-.59l7.78-7.78 2.81-2.81c.8-.78.8-2.07 0-2.86zM5.41 20L4 18.59l7.72-7.72 1.47 1.35L5.41 20z\"/>\n",
              "  </svg>\n",
              "      </button>\n",
              "      \n",
              "  <style>\n",
              "    .colab-df-container {\n",
              "      display:flex;\n",
              "      flex-wrap:wrap;\n",
              "      gap: 12px;\n",
              "    }\n",
              "\n",
              "    .colab-df-convert {\n",
              "      background-color: #E8F0FE;\n",
              "      border: none;\n",
              "      border-radius: 50%;\n",
              "      cursor: pointer;\n",
              "      display: none;\n",
              "      fill: #1967D2;\n",
              "      height: 32px;\n",
              "      padding: 0 0 0 0;\n",
              "      width: 32px;\n",
              "    }\n",
              "\n",
              "    .colab-df-convert:hover {\n",
              "      background-color: #E2EBFA;\n",
              "      box-shadow: 0px 1px 2px rgba(60, 64, 67, 0.3), 0px 1px 3px 1px rgba(60, 64, 67, 0.15);\n",
              "      fill: #174EA6;\n",
              "    }\n",
              "\n",
              "    [theme=dark] .colab-df-convert {\n",
              "      background-color: #3B4455;\n",
              "      fill: #D2E3FC;\n",
              "    }\n",
              "\n",
              "    [theme=dark] .colab-df-convert:hover {\n",
              "      background-color: #434B5C;\n",
              "      box-shadow: 0px 1px 3px 1px rgba(0, 0, 0, 0.15);\n",
              "      filter: drop-shadow(0px 1px 2px rgba(0, 0, 0, 0.3));\n",
              "      fill: #FFFFFF;\n",
              "    }\n",
              "  </style>\n",
              "\n",
              "      <script>\n",
              "        const buttonEl =\n",
              "          document.querySelector('#df-b8c39183-be0b-4c64-89dc-679456f95e60 button.colab-df-convert');\n",
              "        buttonEl.style.display =\n",
              "          google.colab.kernel.accessAllowed ? 'block' : 'none';\n",
              "\n",
              "        async function convertToInteractive(key) {\n",
              "          const element = document.querySelector('#df-b8c39183-be0b-4c64-89dc-679456f95e60');\n",
              "          const dataTable =\n",
              "            await google.colab.kernel.invokeFunction('convertToInteractive',\n",
              "                                                     [key], {});\n",
              "          if (!dataTable) return;\n",
              "\n",
              "          const docLinkHtml = 'Like what you see? Visit the ' +\n",
              "            '<a target=\"_blank\" href=https://colab.research.google.com/notebooks/data_table.ipynb>data table notebook</a>'\n",
              "            + ' to learn more about interactive tables.';\n",
              "          element.innerHTML = '';\n",
              "          dataTable['output_type'] = 'display_data';\n",
              "          await google.colab.output.renderOutput(dataTable, element);\n",
              "          const docLink = document.createElement('div');\n",
              "          docLink.innerHTML = docLinkHtml;\n",
              "          element.appendChild(docLink);\n",
              "        }\n",
              "      </script>\n",
              "    </div>\n",
              "  </div>\n",
              "  "
            ]
          },
          "metadata": {},
          "execution_count": 8
        }
      ]
    },
    {
      "cell_type": "markdown",
      "source": [
        "#### Exploring the dataset"
      ],
      "metadata": {
        "id": "pAXer1Vx1L1o"
      }
    },
    {
      "cell_type": "code",
      "source": [
        "sns.set(font_scale=1.4)"
      ],
      "metadata": {
        "id": "wDf4Bm4qc7sg"
      },
      "execution_count": null,
      "outputs": []
    },
    {
      "cell_type": "code",
      "source": [
        "sns.countplot(x = df['sentiment'], label = 'Count');"
      ],
      "metadata": {
        "colab": {
          "base_uri": "https://localhost:8080/",
          "height": 295
        },
        "id": "IdD9VlcF9ehF",
        "outputId": "6ead8b83-5f12-4444-e38e-de9939c232c3"
      },
      "execution_count": null,
      "outputs": [
        {
          "output_type": "display_data",
          "data": {
            "text/plain": [
              "<Figure size 432x288 with 1 Axes>"
            ],
            "image/png": "[encoded data removed]"
          },
          "metadata": {}
        }
      ]
    },
    {
      "cell_type": "code",
      "source": [
        "counts = df[\"tweet_text_clean\"].str.split(expand=True).stack().value_counts()[:20]\n",
        "ax = sns.barplot(y=counts.index, x=counts)\n",
        "\n",
        "ax.set(xlabel='count', ylabel='words');\n",
        "ax.figure.set_size_inches(10, 8)"
      ],
      "metadata": {
        "colab": {
          "base_uri": "https://localhost:8080/",
          "height": 512
        },
        "id": "Atu7ALTsNjA6",
        "outputId": "e59b4a23-7516-40cf-b9af-d7068491c469"
      },
      "execution_count": null,
      "outputs": [
        {
          "output_type": "display_data",
          "data": {
            "text/plain": [
              "<Figure size 720x576 with 1 Axes>"
            ],
            "image/png": "[encoded data removed]"
          },
          "metadata": {}
        }
      ]
    },
    {
      "cell_type": "markdown",
      "source": [
        "#### Splitting and converting to a spaCy binary format \n"
      ],
      "metadata": {
        "id": "eCWdRMK4XC0C"
      }
    },
    {
      "cell_type": "code",
      "source": [
        "dataset = list(df[[\"tweet_text_clean\", \"sentiment\"]].sample(frac=1).itertuples(index=False, name=None))\n",
        "\n",
        "train_data = dataset[:15000]\n",
        "dev_data = dataset[15000:18000]\n",
        "test_data = dataset[18000:]\n",
        "\n",
        "print(f\"Total: {len(dataset)} - Train:  {len(train_data)} - Dev: {len(dev_data)} - Test: {len(test_data)}\")"
      ],
      "metadata": {
        "colab": {
          "base_uri": "https://localhost:8080/"
        },
        "id": "BT_BWdbee5z7",
        "outputId": "182979d1-46d6-40c2-817f-2e9bca114397"
      },
      "execution_count": null,
      "outputs": [
        {
          "output_type": "stream",
          "name": "stdout",
          "text": [
            "Total: 20000 - Train:  15000 - Dev: 3000 - Test: 2000\n"
          ]
        }
      ]
    },
    {
      "cell_type": "code",
      "source": [
        "def convert(data, outfile):\n",
        "    db = spacy.tokens.DocBin()\n",
        "\n",
        "    docs = []\n",
        "    for doc, label in nlp.pipe(data, as_tuples=True):\n",
        "\n",
        "        doc.cats[\"POS\"] = label == 1\n",
        "        doc.cats[\"NEG\"] = label == 0\n",
        "     \n",
        "        db.add(doc)\n",
        "    \n",
        "    db.to_disk(outfile)\n",
        "\n",
        "convert(train_data, \"./train.spacy\")\n",
        "convert(dev_data, \"./dev.spacy\")\n",
        "convert(test_data, \"./test.spacy\")"
      ],
      "metadata": {
        "id": "692uuowcTgc9"
      },
      "execution_count": null,
      "outputs": []
    },
    {
      "cell_type": "markdown",
      "source": [
        "## Step 2 - Pipeline Train\n",
        "\n",
        "#### Create a configuration file"
      ],
      "metadata": {
        "id": "l4xXUyNlgMe6"
      }
    },
    {
      "cell_type": "code",
      "source": [
        "!python -m spacy init config --lang pt --pipeline textcat --optimize efficiency --force config.cfg "
      ],
      "metadata": {
        "colab": {
          "base_uri": "https://localhost:8080/"
        },
        "id": "Yjq4HzPLgPqX",
        "outputId": "a75bdc75-460b-49b9-ee19-21ceab69904c"
      },
      "execution_count": null,
      "outputs": [
        {
          "output_type": "stream",
          "name": "stdout",
          "text": [
            "2022-11-04 14:11:22.607714: E tensorflow/stream_executor/cuda/cuda_driver.cc:271] failed call to cuInit: CUDA_ERROR_NO_DEVICE: no CUDA-capable device is detected\n",
            "\u001b[38;5;3m⚠ To generate a more effective transformer-based config (GPU-only),\n",
            "install the spacy-transformers package and re-run this command. The config\n",
            "generated now does not use transformers.\u001b[0m\n",
            "\u001b[38;5;4mℹ Generated config template specific for your use case\u001b[0m\n",
            "- Language: pt\n",
            "- Pipeline: textcat\n",
            "- Optimize for: efficiency\n",
            "- Hardware: CPU\n",
            "- Transformer: None\n",
            "\u001b[38;5;2m✔ Auto-filled config with all values\u001b[0m\n",
            "\u001b[38;5;2m✔ Saved config\u001b[0m\n",
            "config.cfg\n",
            "You can now add your data and train your pipeline:\n",
            "python -m spacy train config.cfg --paths.train ./train.spacy --paths.dev ./dev.spacy\n"
          ]
        }
      ]
    },
    {
      "cell_type": "markdown",
      "source": [
        "### Train step"
      ],
      "metadata": {
        "id": "lTbdJ7-4TZiS"
      }
    },
    {
      "cell_type": "code",
      "source": [
        "!python -m spacy train config.cfg --paths.train ./train.spacy  --paths.dev ./dev.spacy --output model --verbose"
      ],
      "metadata": {
        "id": "LDlMMzVlo9No",
        "colab": {
          "base_uri": "https://localhost:8080/"
        },
        "outputId": "6b0c24d8-b1b3-4853-e30c-60e47759c24f"
      },
      "execution_count": null,
      "outputs": [
        {
          "output_type": "stream",
          "name": "stdout",
          "text": [
            "2022-11-04 14:11:34.519725: E tensorflow/stream_executor/cuda/cuda_driver.cc:271] failed call to cuInit: CUDA_ERROR_NO_DEVICE: no CUDA-capable device is detected\n",
            "[2022-11-04 14:11:35,286] [DEBUG] Config overrides from CLI: ['paths.train', 'paths.dev']\n",
            "DEBUG:spacy:Config overrides from CLI: ['paths.train', 'paths.dev']\n",
            "\u001b[38;5;4mℹ Saving to output directory: model\u001b[0m\n",
            "\u001b[38;5;4mℹ Using CPU\u001b[0m\n",
            "\u001b[1m\n",
            "=========================== Initializing pipeline ===========================\u001b[0m\n",
            "[2022-11-04 14:11:35,408] [INFO] Set up nlp object from config\n",
            "INFO:spacy:Set up nlp object from config\n",
            "[2022-11-04 14:11:35,420] [DEBUG] Loading corpus from path: dev.spacy\n",
            "DEBUG:spacy:Loading corpus from path: dev.spacy\n",
            "[2022-11-04 14:11:35,422] [DEBUG] Loading corpus from path: train.spacy\n",
            "DEBUG:spacy:Loading corpus from path: train.spacy\n",
            "[2022-11-04 14:11:35,422] [INFO] Pipeline: ['textcat']\n",
            "INFO:spacy:Pipeline: ['textcat']\n",
            "[2022-11-04 14:11:35,427] [INFO] Created vocabulary\n",
            "INFO:spacy:Created vocabulary\n",
            "[2022-11-04 14:11:35,429] [INFO] Finished initializing nlp object\n",
            "INFO:spacy:Finished initializing nlp object\n",
            "[2022-11-04 14:11:40,158] [INFO] Initialized pipeline components: ['textcat']\n",
            "INFO:spacy:Initialized pipeline components: ['textcat']\n",
            "\u001b[38;5;2m✔ Initialized pipeline\u001b[0m\n",
            "\u001b[1m\n",
            "============================= Training pipeline =============================\u001b[0m\n",
            "[2022-11-04 14:11:40,171] [DEBUG] Loading corpus from path: dev.spacy\n",
            "DEBUG:spacy:Loading corpus from path: dev.spacy\n",
            "[2022-11-04 14:11:40,172] [DEBUG] Loading corpus from path: train.spacy\n",
            "DEBUG:spacy:Loading corpus from path: train.spacy\n",
            "[2022-11-04 14:11:40,173] [DEBUG] Removed existing output directory: model/model-best\n",
            "DEBUG:spacy:Removed existing output directory: model/model-best\n",
            "[2022-11-04 14:11:40,174] [DEBUG] Removed existing output directory: model/model-last\n",
            "DEBUG:spacy:Removed existing output directory: model/model-last\n",
            "\u001b[38;5;4mℹ Pipeline: ['textcat']\u001b[0m\n",
            "\u001b[38;5;4mℹ Initial learn rate: 0.001\u001b[0m\n",
            "E    #       LOSS TEXTCAT  CATS_SCORE  SCORE \n",
            "---  ------  ------------  ----------  ------\n",
            "  0       0          0.25       94.55    0.95\n",
            "  0     200         33.76       97.49    0.97\n",
            "  0     400         14.47       98.16    0.98\n",
            "  0     600          7.37       98.70    0.99\n",
            "  1     800          4.27       98.76    0.99\n",
            "  1    1000          2.82       98.83    0.99\n",
            "  2    1200          2.05       98.86    0.99\n",
            "  3    1400          1.71       98.90    0.99\n",
            "  4    1600          1.33       98.86    0.99\n",
            "  5    1800          1.17       98.86    0.99\n",
            "  7    2000          0.96       98.83    0.99\n",
            "  9    2200          0.87       98.83    0.99\n",
            " 11    2400          0.72       98.83    0.99\n",
            " 13    2600          0.65       98.83    0.99\n",
            " 15    2800          0.56       98.76    0.99\n",
            " 18    3000          0.50       98.73    0.99\n",
            "\u001b[38;5;2m✔ Saved pipeline to output directory\u001b[0m\n",
            "model/model-last\n"
          ]
        }
      ]
    },
    {
      "cell_type": "markdown",
      "source": [
        "## Step 03 - Pipeline Evaluation"
      ],
      "metadata": {
        "id": "sY7SIio5gtJg"
      }
    },
    {
      "cell_type": "code",
      "source": [
        "!python -m spacy evaluate ./model/model-best/ ./test.spacy"
      ],
      "metadata": {
        "colab": {
          "base_uri": "https://localhost:8080/"
        },
        "id": "vVIBoJg9g0HG",
        "outputId": "5028842c-37f9-4bc2-a3b8-b01fbeff7b8b"
      },
      "execution_count": null,
      "outputs": [
        {
          "output_type": "stream",
          "name": "stdout",
          "text": [
            "2022-11-04 14:12:46.620310: E tensorflow/stream_executor/cuda/cuda_driver.cc:271] failed call to cuInit: CUDA_ERROR_NO_DEVICE: no CUDA-capable device is detected\n",
            "\u001b[38;5;4mℹ Using CPU\u001b[0m\n",
            "\u001b[1m\n",
            "================================== Results ==================================\u001b[0m\n",
            "\n",
            "TOK                 100.00\n",
            "TEXTCAT (macro F)   98.74 \n",
            "SPEED               104590\n",
            "\n",
            "\u001b[1m\n",
            "=========================== Textcat F (per label) ===========================\u001b[0m\n",
            "\n",
            "          P       R       F\n",
            "POS   97.73   99.80   98.75\n",
            "NEG   99.79   97.69   98.73\n",
            "\n",
            "\u001b[1m\n",
            "======================== Textcat ROC AUC (per label) ========================\u001b[0m\n",
            "\n",
            "      ROC AUC\n",
            "POS      1.00\n",
            "NEG      1.00\n",
            "\n"
          ]
        }
      ]
    },
    {
      "cell_type": "markdown",
      "source": [
        "## Step 04 - Test Pipeline"
      ],
      "metadata": {
        "id": "4SJviEKpUkav"
      }
    },
    {
      "cell_type": "code",
      "source": [
        "texts = [\":)\", \"Estou muito triste hoje\", \"Estou muito feliz hoje\"]"
      ],
      "metadata": {
        "id": "2V_50YZ6jgBL"
      },
      "execution_count": null,
      "outputs": []
    },
    {
      "cell_type": "code",
      "source": [
        "nlp = spacy.load(\"./model/model-best\")\n",
        "\n",
        "for text in texts:\n",
        "    doc = nlp(preprocessing(text))\n",
        "    print(doc.cats,  \"-\",  text)"
      ],
      "metadata": {
        "id": "2Yio3CSkUWac",
        "colab": {
          "base_uri": "https://localhost:8080/"
        },
        "outputId": "ee6c0230-8ab1-4d8f-d770-fa9fafbe5692"
      },
      "execution_count": null,
      "outputs": [
        {
          "output_type": "stream",
          "name": "stdout",
          "text": [
            "{'POS': 0.9766181707382202, 'NEG': 0.02338179387152195} - :)\n",
            "{'POS': 0.5225540399551392, 'NEG': 0.4774459898471832} - Estou muito triste hoje\n",
            "{'POS': 0.8422360420227051, 'NEG': 0.15776395797729492} - Estou muito feliz hoje\n"
          ]
        }
      ]
    },
    {
      "cell_type": "markdown",
      "source": [
        "#### Evaluate Architetures\n",
        "\n",
        "In this example, we are using configuration files to train a binary text classification. According to the dataset labeled used in this notebook."
      ],
      "metadata": {
        "id": "rpELmVZss3et"
      }
    },
    {
      "cell_type": "markdown",
      "source": [
        "#### CNN\n",
        "\n",
        "Config file:\n",
        "\n",
        "- https://gist.githubusercontent.com/johnidm/6a7bc5cda629be118765b44d1910710d/raw/68ed20d25afc26531b6d0ef70a46483aee3e8c75/single_label_cnn.cfg\n"
      ],
      "metadata": {
        "id": "ctbuJTvrsPQg"
      }
    },
    {
      "cell_type": "code",
      "source": [
        "!curl -O https://gist.githubusercontent.com/johnidm/6a7bc5cda629be118765b44d1910710d/raw/68ed20d25afc26531b6d0ef70a46483aee3e8c75/single_label_cnn.cfg"
      ],
      "metadata": {
        "colab": {
          "base_uri": "https://localhost:8080/"
        },
        "id": "XjmqV01AkUmW",
        "outputId": "737f89ff-89de-485a-d448-5b01821f4560"
      },
      "execution_count": null,
      "outputs": [
        {
          "output_type": "stream",
          "name": "stdout",
          "text": [
            "  % Total    % Received % Xferd  Average Speed   Time    Time     Time  Current\n",
            "                                 Dload  Upload   Total   Spent    Left  Speed\n",
            "100  2261  100  2261    0     0   5345      0 --:--:-- --:--:-- --:--:--  5332\n"
          ]
        }
      ]
    },
    {
      "cell_type": "code",
      "source": [
        "!python -m spacy train single_label_cnn.cfg --paths.train ./train.spacy  --paths.dev ./dev.spacy --output model-cnn --verbose"
      ],
      "metadata": {
        "colab": {
          "base_uri": "https://localhost:8080/"
        },
        "id": "TAKtzGrlkmYE",
        "outputId": "e9f81fb2-e9d5-4319-d681-8c2ec77cce6d"
      },
      "execution_count": null,
      "outputs": [
        {
          "output_type": "stream",
          "name": "stdout",
          "text": [
            "2022-11-04 14:12:54.660891: E tensorflow/stream_executor/cuda/cuda_driver.cc:271] failed call to cuInit: CUDA_ERROR_NO_DEVICE: no CUDA-capable device is detected\n",
            "[2022-11-04 14:12:55,412] [DEBUG] Config overrides from CLI: ['paths.train', 'paths.dev']\n",
            "DEBUG:spacy:Config overrides from CLI: ['paths.train', 'paths.dev']\n",
            "\u001b[38;5;4mℹ Saving to output directory: model-cnn\u001b[0m\n",
            "\u001b[38;5;4mℹ Using CPU\u001b[0m\n",
            "\u001b[1m\n",
            "=========================== Initializing pipeline ===========================\u001b[0m\n",
            "[2022-11-04 14:12:55,543] [INFO] Set up nlp object from config\n",
            "INFO:spacy:Set up nlp object from config\n",
            "[2022-11-04 14:12:55,556] [DEBUG] Loading corpus from path: dev.spacy\n",
            "DEBUG:spacy:Loading corpus from path: dev.spacy\n",
            "[2022-11-04 14:12:55,558] [DEBUG] Loading corpus from path: train.spacy\n",
            "DEBUG:spacy:Loading corpus from path: train.spacy\n",
            "[2022-11-04 14:12:55,558] [INFO] Pipeline: ['textcat']\n",
            "INFO:spacy:Pipeline: ['textcat']\n",
            "[2022-11-04 14:12:55,563] [INFO] Created vocabulary\n",
            "INFO:spacy:Created vocabulary\n",
            "[2022-11-04 14:12:55,566] [INFO] Finished initializing nlp object\n",
            "INFO:spacy:Finished initializing nlp object\n",
            "[2022-11-04 14:13:00,410] [INFO] Initialized pipeline components: ['textcat']\n",
            "INFO:spacy:Initialized pipeline components: ['textcat']\n",
            "\u001b[38;5;2m✔ Initialized pipeline\u001b[0m\n",
            "\u001b[1m\n",
            "============================= Training pipeline =============================\u001b[0m\n",
            "[2022-11-04 14:13:00,425] [DEBUG] Loading corpus from path: dev.spacy\n",
            "DEBUG:spacy:Loading corpus from path: dev.spacy\n",
            "[2022-11-04 14:13:00,426] [DEBUG] Loading corpus from path: train.spacy\n",
            "DEBUG:spacy:Loading corpus from path: train.spacy\n",
            "[2022-11-04 14:13:00,427] [DEBUG] Removed existing output directory: model-cnn/model-best\n",
            "DEBUG:spacy:Removed existing output directory: model-cnn/model-best\n",
            "[2022-11-04 14:13:00,428] [DEBUG] Removed existing output directory: model-cnn/model-last\n",
            "DEBUG:spacy:Removed existing output directory: model-cnn/model-last\n",
            "\u001b[38;5;4mℹ Pipeline: ['textcat']\u001b[0m\n",
            "\u001b[38;5;4mℹ Initial learn rate: 0.001\u001b[0m\n",
            "E    #       LOSS TEXTCAT  CATS_SCORE  SCORE \n",
            "---  ------  ------------  ----------  ------\n",
            "  0       0          0.25       75.52    0.76\n",
            "  0     200          7.33       98.03    0.98\n",
            "  0     400          2.58       98.76    0.99\n",
            "  0     600          1.65       98.63    0.99\n",
            "  1     800          1.52       98.86    0.99\n",
            "  1    1000          0.99       98.90    0.99\n",
            "  2    1200          0.63       98.63    0.99\n",
            "  3    1400          0.43       98.83    0.99\n",
            "  4    1600          0.20       98.90    0.99\n",
            "  5    1800          0.16       98.83    0.99\n",
            "  7    2000          0.07       98.80    0.99\n",
            "  9    2200          0.06       98.86    0.99\n",
            " 11    2400          0.03       98.90    0.99\n",
            " 13    2600          0.05       98.40    0.98\n",
            " 15    2800          0.06       98.76    0.99\n",
            " 18    3000          0.03       98.56    0.99\n",
            " 20    3200          0.06       98.73    0.99\n",
            " 22    3400          0.04       98.63    0.99\n",
            " 25    3600          0.04       98.80    0.99\n",
            " 27    3800          0.04       98.63    0.99\n",
            " 29    4000          0.04       98.66    0.99\n",
            "\u001b[38;5;2m✔ Saved pipeline to output directory\u001b[0m\n",
            "model-cnn/model-last\n"
          ]
        }
      ]
    },
    {
      "cell_type": "code",
      "source": [
        "nlp = spacy.load(\"./model-cnn/model-best\")\n",
        "\n",
        "for text in texts:\n",
        "    doc = nlp(preprocessing(text))\n",
        "    print(doc.cats,  \"-\",  text)"
      ],
      "metadata": {
        "colab": {
          "base_uri": "https://localhost:8080/"
        },
        "id": "nNZ35Ad4lYkm",
        "outputId": "d0756dd7-b7e1-49d9-8c7d-3f039a77f432"
      },
      "execution_count": null,
      "outputs": [
        {
          "output_type": "stream",
          "name": "stdout",
          "text": [
            "{'POS': 1.0, 'NEG': 1.0410988419135772e-35} - :)\n",
            "{'POS': 6.84361054936744e-07, 'NEG': 0.9999992847442627} - Estou muito triste hoje\n",
            "{'POS': 0.9999998807907104, 'NEG': 9.29914776293117e-08} - Estou muito feliz hoje\n"
          ]
        }
      ]
    },
    {
      "cell_type": "markdown",
      "source": [
        "\n",
        "#### Bow\n",
        "Config file\n",
        "\n",
        "- https://gist.githubusercontent.com/johnidm/ad8510dbb59e77b760e1f88417d328bc/raw/40ecf6ce9438137b6c2860fd28620674d26f3d92/single_label_bow.cfg\n"
      ],
      "metadata": {
        "id": "nex1DoGZkVw1"
      }
    },
    {
      "cell_type": "code",
      "source": [
        "!curl -O https://gist.githubusercontent.com/johnidm/ad8510dbb59e77b760e1f88417d328bc/raw/40ecf6ce9438137b6c2860fd28620674d26f3d92/single_label_bow.cfg"
      ],
      "metadata": {
        "colab": {
          "base_uri": "https://localhost:8080/"
        },
        "id": "ZzvT1AUhlcc-",
        "outputId": "6e8fed84-b781-4fd7-f64c-a60b149d0dd6"
      },
      "execution_count": null,
      "outputs": [
        {
          "output_type": "stream",
          "name": "stdout",
          "text": [
            "  % Total    % Received % Xferd  Average Speed   Time    Time     Time  Current\n",
            "                                 Dload  Upload   Total   Spent    Left  Speed\n",
            "100  2100  100  2100    0     0   4535      0 --:--:-- --:--:-- --:--:--  4535\n"
          ]
        }
      ]
    },
    {
      "cell_type": "code",
      "source": [
        "!python -m spacy train single_label_cnn.cfg --paths.train ./train.spacy  --paths.dev ./dev.spacy --output model-bow --verbose"
      ],
      "metadata": {
        "colab": {
          "base_uri": "https://localhost:8080/"
        },
        "id": "aj1X5VBSlqqk",
        "outputId": "d732fa9f-2def-4f4e-a8bc-4fc4b3f6ce5b"
      },
      "execution_count": null,
      "outputs": [
        {
          "output_type": "stream",
          "name": "stdout",
          "text": [
            "2022-11-04 14:25:18.777586: E tensorflow/stream_executor/cuda/cuda_driver.cc:271] failed call to cuInit: CUDA_ERROR_NO_DEVICE: no CUDA-capable device is detected\n",
            "[2022-11-04 14:25:19,553] [DEBUG] Config overrides from CLI: ['paths.train', 'paths.dev']\n",
            "DEBUG:spacy:Config overrides from CLI: ['paths.train', 'paths.dev']\n",
            "\u001b[38;5;4mℹ Saving to output directory: model-bow\u001b[0m\n",
            "\u001b[38;5;4mℹ Using CPU\u001b[0m\n",
            "\u001b[1m\n",
            "=========================== Initializing pipeline ===========================\u001b[0m\n",
            "[2022-11-04 14:25:19,678] [INFO] Set up nlp object from config\n",
            "INFO:spacy:Set up nlp object from config\n",
            "[2022-11-04 14:25:19,693] [DEBUG] Loading corpus from path: dev.spacy\n",
            "DEBUG:spacy:Loading corpus from path: dev.spacy\n",
            "[2022-11-04 14:25:19,694] [DEBUG] Loading corpus from path: train.spacy\n",
            "DEBUG:spacy:Loading corpus from path: train.spacy\n",
            "[2022-11-04 14:25:19,695] [INFO] Pipeline: ['textcat']\n",
            "INFO:spacy:Pipeline: ['textcat']\n",
            "[2022-11-04 14:25:19,699] [INFO] Created vocabulary\n",
            "INFO:spacy:Created vocabulary\n",
            "[2022-11-04 14:25:19,700] [INFO] Finished initializing nlp object\n",
            "INFO:spacy:Finished initializing nlp object\n",
            "[2022-11-04 14:25:24,473] [INFO] Initialized pipeline components: ['textcat']\n",
            "INFO:spacy:Initialized pipeline components: ['textcat']\n",
            "\u001b[38;5;2m✔ Initialized pipeline\u001b[0m\n",
            "\u001b[1m\n",
            "============================= Training pipeline =============================\u001b[0m\n",
            "[2022-11-04 14:25:24,487] [DEBUG] Loading corpus from path: dev.spacy\n",
            "DEBUG:spacy:Loading corpus from path: dev.spacy\n",
            "[2022-11-04 14:25:24,489] [DEBUG] Loading corpus from path: train.spacy\n",
            "DEBUG:spacy:Loading corpus from path: train.spacy\n",
            "[2022-11-04 14:25:24,490] [DEBUG] Removed existing output directory: model-bow/model-best\n",
            "DEBUG:spacy:Removed existing output directory: model-bow/model-best\n",
            "[2022-11-04 14:25:24,490] [DEBUG] Removed existing output directory: model-bow/model-last\n",
            "DEBUG:spacy:Removed existing output directory: model-bow/model-last\n",
            "\u001b[38;5;4mℹ Pipeline: ['textcat']\u001b[0m\n",
            "\u001b[38;5;4mℹ Initial learn rate: 0.001\u001b[0m\n",
            "E    #       LOSS TEXTCAT  CATS_SCORE  SCORE \n",
            "---  ------  ------------  ----------  ------\n",
            "  0       0          0.25       75.52    0.76\n",
            "  0     200          7.33       98.03    0.98\n",
            "  0     400          2.58       98.76    0.99\n",
            "  0     600          1.65       98.63    0.99\n",
            "  1     800          1.52       98.86    0.99\n",
            "  1    1000          0.99       98.90    0.99\n",
            "  2    1200          0.63       98.63    0.99\n",
            "  3    1400          0.43       98.83    0.99\n",
            "  4    1600          0.20       98.90    0.99\n",
            "  5    1800          0.16       98.83    0.99\n",
            "  7    2000          0.07       98.80    0.99\n",
            "  9    2200          0.06       98.86    0.99\n",
            " 11    2400          0.03       98.90    0.99\n",
            " 13    2600          0.05       98.40    0.98\n",
            " 15    2800          0.06       98.76    0.99\n",
            " 18    3000          0.03       98.56    0.99\n",
            " 20    3200          0.06       98.73    0.99\n",
            " 22    3400          0.04       98.63    0.99\n",
            " 25    3600          0.04       98.80    0.99\n",
            " 27    3800          0.04       98.63    0.99\n",
            " 29    4000          0.04       98.66    0.99\n",
            "\u001b[38;5;2m✔ Saved pipeline to output directory\u001b[0m\n",
            "model-bow/model-last\n"
          ]
        }
      ]
    },
    {
      "cell_type": "code",
      "source": [
        "nlp = spacy.load(\"./model-bow/model-best\")\n",
        "\n",
        "for text in texts:\n",
        "    doc = nlp(preprocessing(text))\n",
        "    print(doc.cats,  \"-\",  text)"
      ],
      "metadata": {
        "colab": {
          "base_uri": "https://localhost:8080/"
        },
        "id": "Nf8HTPFV-Uk3",
        "outputId": "9a0ae850-e36f-4978-b395-3c6341dba53a"
      },
      "execution_count": null,
      "outputs": [
        {
          "output_type": "stream",
          "name": "stdout",
          "text": [
            "{'POS': 1.0, 'NEG': 1.0410988419135772e-35} - :)\n",
            "{'POS': 6.84361054936744e-07, 'NEG': 0.9999992847442627} - Estou muito triste hoje\n",
            "{'POS': 0.9999998807907104, 'NEG': 9.29914776293117e-08} - Estou muito feliz hoje\n"
          ]
        }
      ]
    },
    {
      "cell_type": "markdown",
      "source": [
        "#### Ensemble \n",
        "\n",
        "Config file \n",
        "\n",
        "- https://gist.githubusercontent.com/johnidm/3d0b335b5872ef6d7305b4a89a0b9ae1/raw/a3df807d3cdd5fe5e3d04fe404450e2cff2a52e5/single_label_ensemble.cfg\n"
      ],
      "metadata": {
        "id": "vZFuBuNDlc5d"
      }
    },
    {
      "cell_type": "code",
      "source": [
        "!curl -O https://gist.githubusercontent.com/johnidm/3d0b335b5872ef6d7305b4a89a0b9ae1/raw/a3df807d3cdd5fe5e3d04fe404450e2cff2a52e5/single_label_ensemble.cfg"
      ],
      "metadata": {
        "colab": {
          "base_uri": "https://localhost:8080/"
        },
        "id": "Y-C_uYGSleNp",
        "outputId": "79074c0c-fe4c-4ae6-d597-4be865e6b143"
      },
      "execution_count": null,
      "outputs": [
        {
          "output_type": "stream",
          "name": "stdout",
          "text": [
            "  % Total    % Received % Xferd  Average Speed   Time    Time     Time  Current\n",
            "                                 Dload  Upload   Total   Spent    Left  Speed\n",
            "100  2680  100  2680    0     0   6175      0 --:--:-- --:--:-- --:--:--  6189\n"
          ]
        }
      ]
    },
    {
      "cell_type": "code",
      "source": [
        "!python -m spacy train single_label_cnn.cfg --paths.train ./train.spacy  --paths.dev ./dev.spacy --output model-ensemble --verbose"
      ],
      "metadata": {
        "colab": {
          "base_uri": "https://localhost:8080/"
        },
        "id": "wxjvtLvdluOB",
        "outputId": "cdf67de6-d9c7-49a5-f072-341c1574c6d1"
      },
      "execution_count": null,
      "outputs": [
        {
          "output_type": "stream",
          "name": "stdout",
          "text": [
            "2022-11-04 14:37:38.052796: E tensorflow/stream_executor/cuda/cuda_driver.cc:271] failed call to cuInit: CUDA_ERROR_NO_DEVICE: no CUDA-capable device is detected\n",
            "[2022-11-04 14:37:38,782] [DEBUG] Config overrides from CLI: ['paths.train', 'paths.dev']\n",
            "DEBUG:spacy:Config overrides from CLI: ['paths.train', 'paths.dev']\n",
            "\u001b[38;5;4mℹ Saving to output directory: model-ensemble\u001b[0m\n",
            "\u001b[38;5;4mℹ Using CPU\u001b[0m\n",
            "\u001b[1m\n",
            "=========================== Initializing pipeline ===========================\u001b[0m\n",
            "[2022-11-04 14:37:38,918] [INFO] Set up nlp object from config\n",
            "INFO:spacy:Set up nlp object from config\n",
            "[2022-11-04 14:37:38,932] [DEBUG] Loading corpus from path: dev.spacy\n",
            "DEBUG:spacy:Loading corpus from path: dev.spacy\n",
            "[2022-11-04 14:37:38,934] [DEBUG] Loading corpus from path: train.spacy\n",
            "DEBUG:spacy:Loading corpus from path: train.spacy\n",
            "[2022-11-04 14:37:38,934] [INFO] Pipeline: ['textcat']\n",
            "INFO:spacy:Pipeline: ['textcat']\n",
            "[2022-11-04 14:37:38,939] [INFO] Created vocabulary\n",
            "INFO:spacy:Created vocabulary\n",
            "[2022-11-04 14:37:38,940] [INFO] Finished initializing nlp object\n",
            "INFO:spacy:Finished initializing nlp object\n",
            "[2022-11-04 14:37:43,602] [INFO] Initialized pipeline components: ['textcat']\n",
            "INFO:spacy:Initialized pipeline components: ['textcat']\n",
            "\u001b[38;5;2m✔ Initialized pipeline\u001b[0m\n",
            "\u001b[1m\n",
            "============================= Training pipeline =============================\u001b[0m\n",
            "[2022-11-04 14:37:43,615] [DEBUG] Loading corpus from path: dev.spacy\n",
            "DEBUG:spacy:Loading corpus from path: dev.spacy\n",
            "[2022-11-04 14:37:43,616] [DEBUG] Loading corpus from path: train.spacy\n",
            "DEBUG:spacy:Loading corpus from path: train.spacy\n",
            "[2022-11-04 14:37:43,617] [DEBUG] Removed existing output directory: model-ensemble/model-best\n",
            "DEBUG:spacy:Removed existing output directory: model-ensemble/model-best\n",
            "[2022-11-04 14:37:43,618] [DEBUG] Removed existing output directory: model-ensemble/model-last\n",
            "DEBUG:spacy:Removed existing output directory: model-ensemble/model-last\n",
            "\u001b[38;5;4mℹ Pipeline: ['textcat']\u001b[0m\n",
            "\u001b[38;5;4mℹ Initial learn rate: 0.001\u001b[0m\n",
            "E    #       LOSS TEXTCAT  CATS_SCORE  SCORE \n",
            "---  ------  ------------  ----------  ------\n",
            "  0       0          0.25       75.52    0.76\n",
            "  0     200          7.33       98.03    0.98\n",
            "  0     400          2.58       98.76    0.99\n",
            "  0     600          1.65       98.63    0.99\n",
            "  1     800          1.52       98.86    0.99\n",
            "  1    1000          0.99       98.90    0.99\n",
            "  2    1200          0.63       98.63    0.99\n",
            "  3    1400          0.43       98.83    0.99\n",
            "  4    1600          0.20       98.90    0.99\n",
            "  5    1800          0.16       98.83    0.99\n",
            "  7    2000          0.07       98.80    0.99\n",
            "  9    2200          0.06       98.86    0.99\n",
            " 11    2400          0.03       98.90    0.99\n",
            " 13    2600          0.05       98.40    0.98\n",
            " 15    2800          0.06       98.76    0.99\n",
            " 18    3000          0.03       98.56    0.99\n",
            " 20    3200          0.06       98.73    0.99\n",
            " 22    3400          0.04       98.63    0.99\n",
            " 25    3600          0.04       98.80    0.99\n",
            " 27    3800          0.04       98.63    0.99\n",
            " 29    4000          0.04       98.66    0.99\n",
            "\u001b[38;5;2m✔ Saved pipeline to output directory\u001b[0m\n",
            "model-ensemble/model-last\n"
          ]
        }
      ]
    },
    {
      "cell_type": "code",
      "source": [
        "nlp = spacy.load(\"./model-ensemble/model-best\")\n",
        "\n",
        "for text in texts:\n",
        "    doc = nlp(preprocessing(text))\n",
        "    print(doc.cats,  \"-\",  text)"
      ],
      "metadata": {
        "colab": {
          "base_uri": "https://localhost:8080/"
        },
        "id": "YOPFTDYS-ZO_",
        "outputId": "40c48a4f-bb76-4dd8-c71b-4e24758cdd25"
      },
      "execution_count": null,
      "outputs": [
        {
          "output_type": "stream",
          "name": "stdout",
          "text": [
            "{'POS': 1.0, 'NEG': 1.0410988419135772e-35} - :)\n",
            "{'POS': 6.84361054936744e-07, 'NEG': 0.9999992847442627} - Estou muito triste hoje\n",
            "{'POS': 0.9999998807907104, 'NEG': 9.29914776293117e-08} - Estou muito feliz hoje\n"
          ]
        }
      ]
    }
  ]
}